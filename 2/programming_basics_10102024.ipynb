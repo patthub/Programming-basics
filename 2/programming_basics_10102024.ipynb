{
  "nbformat": 4,
  "nbformat_minor": 0,
  "metadata": {
    "colab": {
      "provenance": []
    },
    "kernelspec": {
      "name": "python3",
      "display_name": "Python 3"
    },
    "language_info": {
      "name": "python"
    }
  },
  "cells": [
    {
      "cell_type": "code",
      "execution_count": null,
      "metadata": {
        "colab": {
          "base_uri": "https://localhost:8080/"
        },
        "id": "NvpUP74tIQKR",
        "outputId": "721ae182-5288-4bc4-d707-1b3dea72f87b"
      },
      "outputs": [
        {
          "output_type": "stream",
          "name": "stdout",
          "text": [
            "Hello world\n"
          ]
        }
      ],
      "source": [
        "print(\"Hello world\")"
      ]
    },
    {
      "cell_type": "code",
      "source": [
        "#TASK1\n",
        "\n",
        "var1 = \"I love programming classes\"\n",
        "\n",
        "print(var1[15:23])\n",
        "\n",
        "print(var1[-33:])\n",
        "\n",
        "print(var1[1:33:3])\n",
        "\n",
        "\n",
        "\n",
        "\n",
        "\n"
      ],
      "metadata": {
        "colab": {
          "base_uri": "https://localhost:8080/"
        },
        "id": "KzxcqR0NId92",
        "outputId": "8701fa94-34d1-4036-b4e5-28f1e1b3c6cc"
      },
      "execution_count": null,
      "outputs": [
        {
          "output_type": "stream",
          "name": "stdout",
          "text": [
            "ing clas\n",
            "I love programming classes\n",
            " vpgmncss\n"
          ]
        }
      ]
    },
    {
      "cell_type": "code",
      "source": [
        "#TASK2\n",
        "\n",
        "var2 = \"Black is my favourite colour, unfortunately the black colour washes out of my clothes\"\n",
        "\n",
        "\n",
        "var2.istitle()\n",
        "\n",
        "print(var2.startswith(\"C\"))\n",
        "\n",
        "var3 = var2.replace(\"Black\", \"White\")\n",
        "\n",
        "var4 = var3.replace(\"black\", \"white\")\n",
        "\n",
        "var5 = var2.replace(\"Black\", \"white\").replace(\"black\", \"white\")"
      ],
      "metadata": {
        "colab": {
          "base_uri": "https://localhost:8080/"
        },
        "collapsed": true,
        "id": "C2Di_qQwIgX-",
        "outputId": "b2f0c63a-9adc-42c3-969e-ec7fe767e90c"
      },
      "execution_count": null,
      "outputs": [
        {
          "output_type": "stream",
          "name": "stdout",
          "text": [
            "False\n"
          ]
        }
      ]
    },
    {
      "cell_type": "code",
      "source": [
        "var3"
      ],
      "metadata": {
        "colab": {
          "base_uri": "https://localhost:8080/",
          "height": 53
        },
        "id": "tbGw4e4HLnMq",
        "outputId": "67fc2768-d57b-4f3b-b5be-ade8334e0136"
      },
      "execution_count": null,
      "outputs": [
        {
          "output_type": "execute_result",
          "data": {
            "text/plain": [
              "'White is my favourite colour, unfortunately the black colour washes out of my clothes'"
            ],
            "application/vnd.google.colaboratory.intrinsic+json": {
              "type": "string"
            }
          },
          "metadata": {},
          "execution_count": 14
        }
      ]
    },
    {
      "cell_type": "code",
      "source": [
        "var4"
      ],
      "metadata": {
        "colab": {
          "base_uri": "https://localhost:8080/",
          "height": 53
        },
        "id": "tYbTJAL0LwZ7",
        "outputId": "fa8f0267-1fe6-4e07-9f53-d4dc7c62d970"
      },
      "execution_count": null,
      "outputs": [
        {
          "output_type": "execute_result",
          "data": {
            "text/plain": [
              "'White is my favourite colour, unfortunately the white colour washes out of my clothes'"
            ],
            "application/vnd.google.colaboratory.intrinsic+json": {
              "type": "string"
            }
          },
          "metadata": {},
          "execution_count": 17
        }
      ]
    },
    {
      "cell_type": "code",
      "source": [
        "var6 = var2.lower().replace(\"black\", \"white\").capitalize()"
      ],
      "metadata": {
        "id": "riX1BOwALZ6J"
      },
      "execution_count": null,
      "outputs": []
    },
    {
      "cell_type": "markdown",
      "source": [],
      "metadata": {
        "id": "mj_sKZtPMdEE"
      }
    },
    {
      "cell_type": "code",
      "source": [
        "var6"
      ],
      "metadata": {
        "colab": {
          "base_uri": "https://localhost:8080/",
          "height": 53
        },
        "id": "zUzEpY04MWz8",
        "outputId": "98225b21-34ee-4200-dc6b-d8f32165983b"
      },
      "execution_count": null,
      "outputs": [
        {
          "output_type": "execute_result",
          "data": {
            "text/plain": [
              "'White is my favourite colour, unfortunately the white colour washes out of my clothes'"
            ],
            "application/vnd.google.colaboratory.intrinsic+json": {
              "type": "string"
            }
          },
          "metadata": {},
          "execution_count": 24
        }
      ]
    },
    {
      "cell_type": "code",
      "source": [
        "#COLLECTING DATA FROM USER\n",
        "\n",
        "\n",
        "user_name = input(\"What is your name?\")\n",
        "\n"
      ],
      "metadata": {
        "colab": {
          "base_uri": "https://localhost:8080/"
        },
        "id": "GKCec2GLMqK9",
        "outputId": "5305b13b-7ea0-4cb8-eaa0-b414d98d3e40"
      },
      "execution_count": null,
      "outputs": [
        {
          "name": "stdout",
          "output_type": "stream",
          "text": [
            "What is your name?2325618818948198498gaeiognsegunseruhnseignseu9hnruhnaur9hnar9uhar9hr89hjr8hj\n"
          ]
        }
      ]
    },
    {
      "cell_type": "code",
      "source": [
        "print(user_name)"
      ],
      "metadata": {
        "colab": {
          "base_uri": "https://localhost:8080/"
        },
        "id": "VIeRuv_jNbU1",
        "outputId": "2a20ee7b-45e4-410b-c197-3613d649a081"
      },
      "execution_count": null,
      "outputs": [
        {
          "output_type": "stream",
          "name": "stdout",
          "text": [
            "2325618818948198498gaeiognsegunseruhnseignseu9hnruhnaur9hnar9uhar9hr89hjr8hj\n"
          ]
        }
      ]
    },
    {
      "cell_type": "code",
      "source": [
        "user_age = input(\"How old are you?\")"
      ],
      "metadata": {
        "colab": {
          "base_uri": "https://localhost:8080/"
        },
        "id": "GBRtZlHFNp7_",
        "outputId": "6016d8cf-37b7-4cda-9c9d-bd086de17698"
      },
      "execution_count": null,
      "outputs": [
        {
          "name": "stdout",
          "output_type": "stream",
          "text": [
            "How old are you?18\n"
          ]
        }
      ]
    },
    {
      "cell_type": "code",
      "source": [
        "user_age"
      ],
      "metadata": {
        "colab": {
          "base_uri": "https://localhost:8080/",
          "height": 35
        },
        "id": "c6o225kuNyzC",
        "outputId": "483a544c-c4f5-431a-bd53-0830a9a52f51"
      },
      "execution_count": null,
      "outputs": [
        {
          "output_type": "execute_result",
          "data": {
            "text/plain": [
              "'31'"
            ],
            "application/vnd.google.colaboratory.intrinsic+json": {
              "type": "string"
            }
          },
          "metadata": {},
          "execution_count": 34
        }
      ]
    },
    {
      "cell_type": "code",
      "source": [
        "user_age + 10"
      ],
      "metadata": {
        "colab": {
          "base_uri": "https://localhost:8080/",
          "height": 141
        },
        "collapsed": true,
        "id": "030nsGj0N8E6",
        "outputId": "812bbea9-06aa-4e69-c2bf-c33a7b700165"
      },
      "execution_count": null,
      "outputs": [
        {
          "output_type": "error",
          "ename": "TypeError",
          "evalue": "can only concatenate str (not \"int\") to str",
          "traceback": [
            "\u001b[0;31m---------------------------------------------------------------------------\u001b[0m",
            "\u001b[0;31mTypeError\u001b[0m                                 Traceback (most recent call last)",
            "\u001b[0;32m<ipython-input-33-13850175785f>\u001b[0m in \u001b[0;36m<cell line: 1>\u001b[0;34m()\u001b[0m\n\u001b[0;32m----> 1\u001b[0;31m \u001b[0muser_age\u001b[0m \u001b[0;34m+\u001b[0m \u001b[0;36m10\u001b[0m\u001b[0;34m\u001b[0m\u001b[0;34m\u001b[0m\u001b[0m\n\u001b[0m",
            "\u001b[0;31mTypeError\u001b[0m: can only concatenate str (not \"int\") to str"
          ]
        }
      ]
    },
    {
      "cell_type": "code",
      "source": [
        "user_age_integer = int(user_age)"
      ],
      "metadata": {
        "id": "ZqMS7XlcORuS"
      },
      "execution_count": null,
      "outputs": []
    },
    {
      "cell_type": "code",
      "source": [
        "user_age_integer"
      ],
      "metadata": {
        "colab": {
          "base_uri": "https://localhost:8080/"
        },
        "id": "4ovlWbpoOkpM",
        "outputId": "ef6dab2c-b47b-4ccf-c134-286821fadc4f"
      },
      "execution_count": null,
      "outputs": [
        {
          "output_type": "execute_result",
          "data": {
            "text/plain": [
              "18"
            ]
          },
          "metadata": {},
          "execution_count": 41
        }
      ]
    },
    {
      "cell_type": "code",
      "source": [
        "type(user_age_integer)"
      ],
      "metadata": {
        "colab": {
          "base_uri": "https://localhost:8080/"
        },
        "id": "UdmCr7T7OmUD",
        "outputId": "15a631ee-4581-4f3c-f6ed-673f1dadf3d5"
      },
      "execution_count": null,
      "outputs": [
        {
          "output_type": "execute_result",
          "data": {
            "text/plain": [
              "int"
            ]
          },
          "metadata": {},
          "execution_count": 42
        }
      ]
    },
    {
      "cell_type": "code",
      "source": [
        "user_age_float = float(user_age)"
      ],
      "metadata": {
        "id": "ej41YFf8Os12"
      },
      "execution_count": null,
      "outputs": []
    },
    {
      "cell_type": "code",
      "source": [
        "type(user_age_float)"
      ],
      "metadata": {
        "colab": {
          "base_uri": "https://localhost:8080/"
        },
        "id": "7E6ZrLuzO1r2",
        "outputId": "4c9a5ff0-762b-47be-dec3-63e6101b4f6e"
      },
      "execution_count": null,
      "outputs": [
        {
          "output_type": "execute_result",
          "data": {
            "text/plain": [
              "float"
            ]
          },
          "metadata": {},
          "execution_count": 44
        }
      ]
    },
    {
      "cell_type": "code",
      "source": [
        "user_age_float"
      ],
      "metadata": {
        "colab": {
          "base_uri": "https://localhost:8080/"
        },
        "id": "cfLynu0LO3nW",
        "outputId": "1a99bff4-3d29-4bc7-cd4a-7e2bfd779548"
      },
      "execution_count": null,
      "outputs": [
        {
          "output_type": "execute_result",
          "data": {
            "text/plain": [
              "18.0"
            ]
          },
          "metadata": {},
          "execution_count": 45
        }
      ]
    },
    {
      "cell_type": "code",
      "source": [
        "user_age2 = input(\"How old are you?\")"
      ],
      "metadata": {
        "colab": {
          "base_uri": "https://localhost:8080/"
        },
        "id": "ULkChs6YO9df",
        "outputId": "84b1c211-fc18-4f1a-959b-b51783ad93a7"
      },
      "execution_count": null,
      "outputs": [
        {
          "name": "stdout",
          "output_type": "stream",
          "text": [
            "How old are you?im 18 yrs old\n"
          ]
        }
      ]
    },
    {
      "cell_type": "code",
      "source": [
        "type(user_age2)"
      ],
      "metadata": {
        "colab": {
          "base_uri": "https://localhost:8080/"
        },
        "id": "V2HMdA5OPKx3",
        "outputId": "bf886af4-1a5b-499f-ed54-139a71c402cf"
      },
      "execution_count": null,
      "outputs": [
        {
          "output_type": "execute_result",
          "data": {
            "text/plain": [
              "str"
            ]
          },
          "metadata": {},
          "execution_count": 47
        }
      ]
    },
    {
      "cell_type": "code",
      "source": [
        "user_age2_integer = int(user_age2)"
      ],
      "metadata": {
        "colab": {
          "base_uri": "https://localhost:8080/",
          "height": 141
        },
        "collapsed": true,
        "id": "be0NwRTaPNzH",
        "outputId": "8041a39d-a7c0-4d9d-8fa3-511eb550d7f0"
      },
      "execution_count": null,
      "outputs": [
        {
          "output_type": "error",
          "ename": "ValueError",
          "evalue": "invalid literal for int() with base 10: 'im 18 yrs old'",
          "traceback": [
            "\u001b[0;31m---------------------------------------------------------------------------\u001b[0m",
            "\u001b[0;31mValueError\u001b[0m                                Traceback (most recent call last)",
            "\u001b[0;32m<ipython-input-49-853fb21191bb>\u001b[0m in \u001b[0;36m<cell line: 1>\u001b[0;34m()\u001b[0m\n\u001b[0;32m----> 1\u001b[0;31m \u001b[0muser_age2_integer\u001b[0m \u001b[0;34m=\u001b[0m \u001b[0mint\u001b[0m\u001b[0;34m(\u001b[0m\u001b[0muser_age2\u001b[0m\u001b[0;34m)\u001b[0m\u001b[0;34m\u001b[0m\u001b[0;34m\u001b[0m\u001b[0m\n\u001b[0m",
            "\u001b[0;31mValueError\u001b[0m: invalid literal for int() with base 10: 'im 18 yrs old'"
          ]
        }
      ]
    },
    {
      "cell_type": "code",
      "source": [
        "user_age2.isdigit()"
      ],
      "metadata": {
        "colab": {
          "base_uri": "https://localhost:8080/"
        },
        "id": "x0c9nR76Pk1_",
        "outputId": "7626da2b-6137-48c3-a361-b77c70d8604c"
      },
      "execution_count": null,
      "outputs": [
        {
          "output_type": "execute_result",
          "data": {
            "text/plain": [
              "False"
            ]
          },
          "metadata": {},
          "execution_count": 50
        }
      ]
    },
    {
      "cell_type": "code",
      "source": [
        "user_age.isdigit()"
      ],
      "metadata": {
        "colab": {
          "base_uri": "https://localhost:8080/"
        },
        "id": "FjgsxIy1Ptj_",
        "outputId": "aabe5275-a441-4209-b1ab-6898e40cd99d"
      },
      "execution_count": null,
      "outputs": [
        {
          "output_type": "execute_result",
          "data": {
            "text/plain": [
              "True"
            ]
          },
          "metadata": {},
          "execution_count": 51
        }
      ]
    },
    {
      "cell_type": "code",
      "source": [
        "user_age = \"asadasda\""
      ],
      "metadata": {
        "id": "S5mjE3esQlg2"
      },
      "execution_count": null,
      "outputs": []
    },
    {
      "cell_type": "code",
      "source": [
        "user_age = \"18\"\n",
        "\n",
        "#CONDITIONALS\n",
        "\n",
        "if user_age.isdigit():\n",
        "  print(\"ok\")\n",
        "elif user_age.isupper():\n",
        "  print(\"user age is upper\")\n",
        "elif user_age.isalpha():\n",
        "  print(\"blabla\")\n",
        "elif user_age.isdigit():\n",
        "  print(\"NEW OK\")\n",
        "else:\n",
        "  print(\"not ok\")"
      ],
      "metadata": {
        "colab": {
          "base_uri": "https://localhost:8080/"
        },
        "id": "PjhXSj1cP6WE",
        "outputId": "5a11f25d-e91b-495b-9e28-0c2536f2530a"
      },
      "execution_count": null,
      "outputs": [
        {
          "output_type": "stream",
          "name": "stdout",
          "text": [
            "ok\n"
          ]
        }
      ]
    },
    {
      "cell_type": "code",
      "source": [
        "user_age3 = input(\"How old are you?\")\n",
        "\n",
        "if user_age3.isdigit():\n",
        "  user_age3_integer = int(user_age3)\n",
        "  print(user_age3_integer + 10)\n",
        "else:\n",
        "  print(\"invalid data\")\n",
        "\n",
        "\n"
      ],
      "metadata": {
        "colab": {
          "base_uri": "https://localhost:8080/"
        },
        "id": "Q3YeCqigSYgT",
        "outputId": "e2ca52ac-e507-4e68-a15a-dd5f00072f43"
      },
      "execution_count": null,
      "outputs": [
        {
          "output_type": "stream",
          "name": "stdout",
          "text": [
            "How old are you?serhshsrhshsrh\n",
            "invalid data\n"
          ]
        }
      ]
    },
    {
      "cell_type": "code",
      "source": [],
      "metadata": {
        "id": "ekLL6LKfTQDf"
      },
      "execution_count": null,
      "outputs": []
    }
  ]
}